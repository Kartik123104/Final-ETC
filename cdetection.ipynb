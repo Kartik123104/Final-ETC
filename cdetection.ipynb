{
 "cells": [
  {
   "cell_type": "code",
   "execution_count": 1,
   "id": "13dfed45",
   "metadata": {
    "_cell_guid": "b1076dfc-b9ad-4769-8c92-a6c4dae69d19",
    "_uuid": "8f2839f25d086af736a60e9eeb907d3b93b6e0e5",
    "execution": {
     "iopub.execute_input": "2023-10-02T17:59:47.714945Z",
     "iopub.status.busy": "2023-10-02T17:59:47.714538Z",
     "iopub.status.idle": "2023-10-02T18:00:00.777272Z",
     "shell.execute_reply": "2023-10-02T18:00:00.775994Z"
    },
    "papermill": {
     "duration": 13.070966,
     "end_time": "2023-10-02T18:00:00.779651",
     "exception": false,
     "start_time": "2023-10-02T17:59:47.708685",
     "status": "completed"
    },
    "tags": []
   },
   "outputs": [],
   "source": [
    "import numpy as np\n",
    "import pandas as pd\n",
    "\n",
    "import matplotlib.pyplot as plt\n",
    "import seaborn as sns\n",
    "import plotly.express as px\n",
    "\n",
    "from pathlib import Path\n",
    "from sklearn.model_selection import train_test_split\n",
    "\n",
    "import tensorflow as tf\n",
    "\n",
    "from sklearn.metrics import confusion_matrix, classification_report"
   ]
  },
  {
   "cell_type": "code",
   "execution_count": 2,
   "id": "7753d7e9",
   "metadata": {
    "execution": {
     "iopub.execute_input": "2023-10-02T18:00:00.791023Z",
     "iopub.status.busy": "2023-10-02T18:00:00.790279Z",
     "iopub.status.idle": "2023-10-02T18:00:00.794674Z",
     "shell.execute_reply": "2023-10-02T18:00:00.793915Z"
    },
    "papermill": {
     "duration": 0.010984,
     "end_time": "2023-10-02T18:00:00.796419",
     "exception": false,
     "start_time": "2023-10-02T18:00:00.785435",
     "status": "completed"
    },
    "tags": []
   },
   "outputs": [],
   "source": [
    "positive_dir=Path('/kaggle/input/surface-crack-detection/Positive')\n",
    "negative_dir=Path('/kaggle/input/surface-crack-detection/Negative')"
   ]
  },
  {
   "cell_type": "markdown",
   "id": "ba35d862",
   "metadata": {
    "papermill": {
     "duration": 0.003515,
     "end_time": "2023-10-02T18:00:00.803562",
     "exception": false,
     "start_time": "2023-10-02T18:00:00.800047",
     "status": "completed"
    },
    "tags": []
   },
   "source": [
    "**creating dataframes**"
   ]
  },
  {
   "cell_type": "code",
   "execution_count": 3,
   "id": "45b1bb83",
   "metadata": {
    "execution": {
     "iopub.execute_input": "2023-10-02T18:00:00.812444Z",
     "iopub.status.busy": "2023-10-02T18:00:00.812034Z",
     "iopub.status.idle": "2023-10-02T18:00:00.817661Z",
     "shell.execute_reply": "2023-10-02T18:00:00.816549Z"
    },
    "papermill": {
     "duration": 0.012493,
     "end_time": "2023-10-02T18:00:00.819558",
     "exception": false,
     "start_time": "2023-10-02T18:00:00.807065",
     "status": "completed"
    },
    "tags": []
   },
   "outputs": [],
   "source": [
    "def generate_df(image_dir, label):\n",
    "    filepaths = pd.Series(list(image_dir.glob(r'*.jpg')), name='Filepath').astype(str)\n",
    "    labels = pd.Series(label, name='Label', index=filepaths.index)\n",
    "    df = pd.concat([filepaths, labels], axis=1)\n",
    "    return df"
   ]
  },
  {
   "cell_type": "code",
   "execution_count": 4,
   "id": "7f759311",
   "metadata": {
    "execution": {
     "iopub.execute_input": "2023-10-02T18:00:00.830001Z",
     "iopub.status.busy": "2023-10-02T18:00:00.829389Z",
     "iopub.status.idle": "2023-10-02T18:00:02.935491Z",
     "shell.execute_reply": "2023-10-02T18:00:02.934472Z"
    },
    "papermill": {
     "duration": 2.114288,
     "end_time": "2023-10-02T18:00:02.938429",
     "exception": false,
     "start_time": "2023-10-02T18:00:00.824141",
     "status": "completed"
    },
    "tags": []
   },
   "outputs": [
    {
     "data": {
      "text/html": [
       "<div>\n",
       "<style scoped>\n",
       "    .dataframe tbody tr th:only-of-type {\n",
       "        vertical-align: middle;\n",
       "    }\n",
       "\n",
       "    .dataframe tbody tr th {\n",
       "        vertical-align: top;\n",
       "    }\n",
       "\n",
       "    .dataframe thead th {\n",
       "        text-align: right;\n",
       "    }\n",
       "</style>\n",
       "<table border=\"1\" class=\"dataframe\">\n",
       "  <thead>\n",
       "    <tr style=\"text-align: right;\">\n",
       "      <th></th>\n",
       "      <th>Filepath</th>\n",
       "      <th>Label</th>\n",
       "    </tr>\n",
       "  </thead>\n",
       "  <tbody>\n",
       "    <tr>\n",
       "      <th>0</th>\n",
       "      <td>/kaggle/input/surface-crack-detection/Positive...</td>\n",
       "      <td>POSITIVE</td>\n",
       "    </tr>\n",
       "    <tr>\n",
       "      <th>1</th>\n",
       "      <td>/kaggle/input/surface-crack-detection/Positive...</td>\n",
       "      <td>POSITIVE</td>\n",
       "    </tr>\n",
       "    <tr>\n",
       "      <th>2</th>\n",
       "      <td>/kaggle/input/surface-crack-detection/Positive...</td>\n",
       "      <td>POSITIVE</td>\n",
       "    </tr>\n",
       "    <tr>\n",
       "      <th>3</th>\n",
       "      <td>/kaggle/input/surface-crack-detection/Negative...</td>\n",
       "      <td>NEGATIVE</td>\n",
       "    </tr>\n",
       "    <tr>\n",
       "      <th>4</th>\n",
       "      <td>/kaggle/input/surface-crack-detection/Positive...</td>\n",
       "      <td>POSITIVE</td>\n",
       "    </tr>\n",
       "    <tr>\n",
       "      <th>...</th>\n",
       "      <td>...</td>\n",
       "      <td>...</td>\n",
       "    </tr>\n",
       "    <tr>\n",
       "      <th>39995</th>\n",
       "      <td>/kaggle/input/surface-crack-detection/Positive...</td>\n",
       "      <td>POSITIVE</td>\n",
       "    </tr>\n",
       "    <tr>\n",
       "      <th>39996</th>\n",
       "      <td>/kaggle/input/surface-crack-detection/Negative...</td>\n",
       "      <td>NEGATIVE</td>\n",
       "    </tr>\n",
       "    <tr>\n",
       "      <th>39997</th>\n",
       "      <td>/kaggle/input/surface-crack-detection/Positive...</td>\n",
       "      <td>POSITIVE</td>\n",
       "    </tr>\n",
       "    <tr>\n",
       "      <th>39998</th>\n",
       "      <td>/kaggle/input/surface-crack-detection/Positive...</td>\n",
       "      <td>POSITIVE</td>\n",
       "    </tr>\n",
       "    <tr>\n",
       "      <th>39999</th>\n",
       "      <td>/kaggle/input/surface-crack-detection/Negative...</td>\n",
       "      <td>NEGATIVE</td>\n",
       "    </tr>\n",
       "  </tbody>\n",
       "</table>\n",
       "<p>40000 rows × 2 columns</p>\n",
       "</div>"
      ],
      "text/plain": [
       "                                                Filepath     Label\n",
       "0      /kaggle/input/surface-crack-detection/Positive...  POSITIVE\n",
       "1      /kaggle/input/surface-crack-detection/Positive...  POSITIVE\n",
       "2      /kaggle/input/surface-crack-detection/Positive...  POSITIVE\n",
       "3      /kaggle/input/surface-crack-detection/Negative...  NEGATIVE\n",
       "4      /kaggle/input/surface-crack-detection/Positive...  POSITIVE\n",
       "...                                                  ...       ...\n",
       "39995  /kaggle/input/surface-crack-detection/Positive...  POSITIVE\n",
       "39996  /kaggle/input/surface-crack-detection/Negative...  NEGATIVE\n",
       "39997  /kaggle/input/surface-crack-detection/Positive...  POSITIVE\n",
       "39998  /kaggle/input/surface-crack-detection/Positive...  POSITIVE\n",
       "39999  /kaggle/input/surface-crack-detection/Negative...  NEGATIVE\n",
       "\n",
       "[40000 rows x 2 columns]"
      ]
     },
     "execution_count": 4,
     "metadata": {},
     "output_type": "execute_result"
    }
   ],
   "source": [
    "positive_df = generate_df(positive_dir, label=\"POSITIVE\")\n",
    "negative_df = generate_df(negative_dir, label=\"NEGATIVE\")\n",
    "\n",
    "all_df = pd.concat([positive_df, negative_df], axis=0).sample(frac=1.0, random_state=1).reset_index(drop=True)\n",
    "all_df"
   ]
  },
  {
   "cell_type": "code",
   "execution_count": 5,
   "id": "a8eba08d",
   "metadata": {
    "execution": {
     "iopub.execute_input": "2023-10-02T18:00:02.948697Z",
     "iopub.status.busy": "2023-10-02T18:00:02.948320Z",
     "iopub.status.idle": "2023-10-02T18:00:02.958614Z",
     "shell.execute_reply": "2023-10-02T18:00:02.957507Z"
    },
    "papermill": {
     "duration": 0.017854,
     "end_time": "2023-10-02T18:00:02.960843",
     "exception": false,
     "start_time": "2023-10-02T18:00:02.942989",
     "status": "completed"
    },
    "tags": []
   },
   "outputs": [],
   "source": [
    "train_df, test_df = train_test_split(\n",
    "    all_df.sample(6000, random_state=1),\n",
    "    train_size=0.7,\n",
    "    shuffle=True,\n",
    "    random_state=1\n",
    ")"
   ]
  },
  {
   "cell_type": "markdown",
   "id": "6b3ccc9e",
   "metadata": {
    "papermill": {
     "duration": 0.003824,
     "end_time": "2023-10-02T18:00:02.968734",
     "exception": false,
     "start_time": "2023-10-02T18:00:02.964910",
     "status": "completed"
    },
    "tags": []
   },
   "source": []
  },
  {
   "cell_type": "markdown",
   "id": "4ea869cf",
   "metadata": {
    "papermill": {
     "duration": 0.003773,
     "end_time": "2023-10-02T18:00:02.976529",
     "exception": false,
     "start_time": "2023-10-02T18:00:02.972756",
     "status": "completed"
    },
    "tags": []
   },
   "source": [
    "loading images"
   ]
  },
  {
   "cell_type": "code",
   "execution_count": 6,
   "id": "315a3f01",
   "metadata": {
    "execution": {
     "iopub.execute_input": "2023-10-02T18:00:02.986461Z",
     "iopub.status.busy": "2023-10-02T18:00:02.985788Z",
     "iopub.status.idle": "2023-10-02T18:00:02.990014Z",
     "shell.execute_reply": "2023-10-02T18:00:02.989358Z"
    },
    "papermill": {
     "duration": 0.011788,
     "end_time": "2023-10-02T18:00:02.992216",
     "exception": false,
     "start_time": "2023-10-02T18:00:02.980428",
     "status": "completed"
    },
    "tags": []
   },
   "outputs": [],
   "source": [
    "train_gen = tf.keras.preprocessing.image.ImageDataGenerator(\n",
    "    rescale=1./255,\n",
    "    validation_split=0.2\n",
    ")\n",
    "\n",
    "test_gen = tf.keras.preprocessing.image.ImageDataGenerator(\n",
    "    rescale=1./255\n",
    ")"
   ]
  },
  {
   "cell_type": "code",
   "execution_count": 7,
   "id": "b7b3596d",
   "metadata": {
    "execution": {
     "iopub.execute_input": "2023-10-02T18:00:03.002418Z",
     "iopub.status.busy": "2023-10-02T18:00:03.001835Z",
     "iopub.status.idle": "2023-10-02T18:00:25.474444Z",
     "shell.execute_reply": "2023-10-02T18:00:25.473474Z"
    },
    "papermill": {
     "duration": 22.480904,
     "end_time": "2023-10-02T18:00:25.477356",
     "exception": false,
     "start_time": "2023-10-02T18:00:02.996452",
     "status": "completed"
    },
    "tags": []
   },
   "outputs": [
    {
     "name": "stdout",
     "output_type": "stream",
     "text": [
      "Found 3360 validated image filenames belonging to 2 classes.\n",
      "Found 840 validated image filenames belonging to 2 classes.\n",
      "Found 1800 validated image filenames belonging to 2 classes.\n"
     ]
    }
   ],
   "source": [
    "train_data = train_gen.flow_from_dataframe(\n",
    "    train_df,\n",
    "    x_col='Filepath',\n",
    "    y_col='Label',\n",
    "    target_size=(120, 120),\n",
    "    color_mode='rgb',\n",
    "    class_mode='binary',\n",
    "    batch_size=32,\n",
    "    shuffle=True,\n",
    "    seed=42,\n",
    "    subset='training'\n",
    ")\n",
    "\n",
    "val_data = train_gen.flow_from_dataframe(\n",
    "    train_df,\n",
    "    x_col='Filepath',\n",
    "    y_col='Label',\n",
    "    target_size=(120, 120),\n",
    "    color_mode='rgb',\n",
    "    class_mode='binary',\n",
    "    batch_size=32,\n",
    "    shuffle=True,\n",
    "    seed=42,\n",
    "    subset='validation'\n",
    "    )\n",
    "\n",
    "test_data = train_gen.flow_from_dataframe(\n",
    "    test_df,\n",
    "    x_col='Filepath',\n",
    "    y_col='Label',\n",
    "    target_size=(120, 120),\n",
    "    color_mode='rgb',\n",
    "    class_mode='binary',\n",
    "    batch_size=32,\n",
    "    shuffle=False,\n",
    "    seed=42\n",
    ")"
   ]
  },
  {
   "cell_type": "markdown",
   "id": "69ff76fb",
   "metadata": {
    "papermill": {
     "duration": 0.004381,
     "end_time": "2023-10-02T18:00:25.486453",
     "exception": false,
     "start_time": "2023-10-02T18:00:25.482072",
     "status": "completed"
    },
    "tags": []
   },
   "source": [
    "**training**"
   ]
  },
  {
   "cell_type": "code",
   "execution_count": 8,
   "id": "ad013bed",
   "metadata": {
    "execution": {
     "iopub.execute_input": "2023-10-02T18:00:25.496889Z",
     "iopub.status.busy": "2023-10-02T18:00:25.496532Z",
     "iopub.status.idle": "2023-10-02T18:00:25.814100Z",
     "shell.execute_reply": "2023-10-02T18:00:25.802752Z"
    },
    "papermill": {
     "duration": 0.334035,
     "end_time": "2023-10-02T18:00:25.824851",
     "exception": false,
     "start_time": "2023-10-02T18:00:25.490816",
     "status": "completed"
    },
    "tags": []
   },
   "outputs": [
    {
     "name": "stdout",
     "output_type": "stream",
     "text": [
      "Model: \"model\"\n",
      "_________________________________________________________________\n",
      " Layer (type)                Output Shape              Param #   \n",
      "=================================================================\n",
      " input_1 (InputLayer)        [(None, 120, 120, 3)]     0         \n",
      "                                                                 \n",
      " conv2d (Conv2D)             (None, 118, 118, 16)      448       \n",
      "                                                                 \n",
      " max_pooling2d (MaxPooling2D  (None, 59, 59, 16)       0         \n",
      " )                                                               \n",
      "                                                                 \n",
      " conv2d_1 (Conv2D)           (None, 57, 57, 32)        4640      \n",
      "                                                                 \n",
      " max_pooling2d_1 (MaxPooling  (None, 28, 28, 32)       0         \n",
      " 2D)                                                             \n",
      "                                                                 \n",
      " global_average_pooling2d (G  (None, 32)               0         \n",
      " lobalAveragePooling2D)                                          \n",
      "                                                                 \n",
      " dense (Dense)               (None, 1)                 33        \n",
      "                                                                 \n",
      "=================================================================\n",
      "Total params: 5,121\n",
      "Trainable params: 5,121\n",
      "Non-trainable params: 0\n",
      "_________________________________________________________________\n",
      "None\n"
     ]
    }
   ],
   "source": [
    "inputs = tf.keras.Input(shape=(120, 120, 3))\n",
    "x = tf.keras.layers.Conv2D(filters=16, kernel_size=(3, 3), activation='relu')(inputs)\n",
    "x = tf.keras.layers.MaxPool2D(pool_size=(2, 2))(x)\n",
    "x = tf.keras.layers.Conv2D(filters=32, kernel_size=(3, 3), activation='relu')(x)\n",
    "x = tf.keras.layers.MaxPool2D(pool_size=(2, 2))(x)\n",
    "x = tf.keras.layers.GlobalAveragePooling2D()(x)\n",
    "outputs = tf.keras.layers.Dense(1, activation='sigmoid')(x)\n",
    "\n",
    "model = tf.keras.Model(inputs=inputs, outputs=outputs)\n",
    "\n",
    "model.compile(\n",
    "    optimizer='adam',\n",
    "    loss='binary_crossentropy',\n",
    "    metrics=['accuracy']\n",
    ")\n",
    "\n",
    "print(model.summary())"
   ]
  },
  {
   "cell_type": "code",
   "execution_count": 9,
   "id": "f649a7f9",
   "metadata": {
    "execution": {
     "iopub.execute_input": "2023-10-02T18:00:25.844219Z",
     "iopub.status.busy": "2023-10-02T18:00:25.842882Z",
     "iopub.status.idle": "2023-10-02T18:11:17.966335Z",
     "shell.execute_reply": "2023-10-02T18:11:17.965071Z"
    },
    "papermill": {
     "duration": 652.137424,
     "end_time": "2023-10-02T18:11:17.968478",
     "exception": false,
     "start_time": "2023-10-02T18:00:25.831054",
     "status": "completed"
    },
    "tags": []
   },
   "outputs": [
    {
     "name": "stdout",
     "output_type": "stream",
     "text": [
      "Epoch 1/100\n",
      "105/105 [==============================] - 30s 276ms/step - loss: 0.6766 - accuracy: 0.5667 - val_loss: 0.6558 - val_accuracy: 0.5226\n",
      "Epoch 2/100\n",
      "105/105 [==============================] - 24s 227ms/step - loss: 0.6096 - accuracy: 0.7238 - val_loss: 0.5717 - val_accuracy: 0.6714\n",
      "Epoch 3/100\n",
      "105/105 [==============================] - 23s 221ms/step - loss: 0.5058 - accuracy: 0.8143 - val_loss: 0.4783 - val_accuracy: 0.8333\n",
      "Epoch 4/100\n",
      "105/105 [==============================] - 24s 225ms/step - loss: 0.3863 - accuracy: 0.8985 - val_loss: 0.3427 - val_accuracy: 0.9119\n",
      "Epoch 5/100\n",
      "105/105 [==============================] - 23s 216ms/step - loss: 0.2923 - accuracy: 0.9351 - val_loss: 0.3045 - val_accuracy: 0.9357\n",
      "Epoch 6/100\n",
      "105/105 [==============================] - 23s 215ms/step - loss: 0.2246 - accuracy: 0.9473 - val_loss: 0.2210 - val_accuracy: 0.9500\n",
      "Epoch 7/100\n",
      "105/105 [==============================] - 23s 220ms/step - loss: 0.1921 - accuracy: 0.9530 - val_loss: 0.1850 - val_accuracy: 0.9643\n",
      "Epoch 8/100\n",
      "105/105 [==============================] - 23s 217ms/step - loss: 0.1535 - accuracy: 0.9586 - val_loss: 0.2051 - val_accuracy: 0.9607\n",
      "Epoch 9/100\n",
      "105/105 [==============================] - 23s 218ms/step - loss: 0.1410 - accuracy: 0.9616 - val_loss: 0.1556 - val_accuracy: 0.9679\n",
      "Epoch 10/100\n",
      "105/105 [==============================] - 22s 213ms/step - loss: 0.1275 - accuracy: 0.9655 - val_loss: 0.1468 - val_accuracy: 0.9714\n",
      "Epoch 11/100\n",
      "105/105 [==============================] - 23s 220ms/step - loss: 0.1176 - accuracy: 0.9664 - val_loss: 0.1312 - val_accuracy: 0.9726\n",
      "Epoch 12/100\n",
      "105/105 [==============================] - 22s 212ms/step - loss: 0.0989 - accuracy: 0.9696 - val_loss: 0.1451 - val_accuracy: 0.9726\n",
      "Epoch 13/100\n",
      "105/105 [==============================] - 23s 214ms/step - loss: 0.0938 - accuracy: 0.9729 - val_loss: 0.1203 - val_accuracy: 0.9738\n",
      "Epoch 14/100\n",
      "105/105 [==============================] - 23s 218ms/step - loss: 0.0980 - accuracy: 0.9693 - val_loss: 0.1147 - val_accuracy: 0.9762\n",
      "Epoch 15/100\n",
      "105/105 [==============================] - 23s 218ms/step - loss: 0.0821 - accuracy: 0.9741 - val_loss: 0.1311 - val_accuracy: 0.9774\n",
      "Epoch 16/100\n",
      "105/105 [==============================] - 23s 215ms/step - loss: 0.0820 - accuracy: 0.9759 - val_loss: 0.1091 - val_accuracy: 0.9774\n",
      "Epoch 17/100\n",
      "105/105 [==============================] - 22s 212ms/step - loss: 0.0755 - accuracy: 0.9762 - val_loss: 0.1180 - val_accuracy: 0.9810\n",
      "Epoch 18/100\n",
      "105/105 [==============================] - 24s 224ms/step - loss: 0.0730 - accuracy: 0.9765 - val_loss: 0.1106 - val_accuracy: 0.9798\n",
      "Epoch 19/100\n",
      "105/105 [==============================] - 23s 216ms/step - loss: 0.0738 - accuracy: 0.9762 - val_loss: 0.1132 - val_accuracy: 0.9810\n"
     ]
    }
   ],
   "source": [
    "history = model.fit(\n",
    "    train_data,\n",
    "    validation_data=val_data,\n",
    "    epochs=100,\n",
    "    callbacks=[\n",
    "        tf.keras.callbacks.EarlyStopping(\n",
    "            monitor='val_loss',\n",
    "            patience=3,\n",
    "            restore_best_weights=True\n",
    "        )\n",
    "    ]\n",
    ")"
   ]
  },
  {
   "cell_type": "code",
   "execution_count": 10,
   "id": "a35d3d1e",
   "metadata": {
    "execution": {
     "iopub.execute_input": "2023-10-02T18:11:18.188837Z",
     "iopub.status.busy": "2023-10-02T18:11:18.187625Z",
     "iopub.status.idle": "2023-10-02T18:11:37.884230Z",
     "shell.execute_reply": "2023-10-02T18:11:37.883317Z"
    },
    "papermill": {
     "duration": 19.810284,
     "end_time": "2023-10-02T18:11:37.886399",
     "exception": false,
     "start_time": "2023-10-02T18:11:18.076115",
     "status": "completed"
    },
    "tags": []
   },
   "outputs": [
    {
     "data": {
      "text/html": [
       "        <script type=\"text/javascript\">\n",
       "        window.PlotlyConfig = {MathJaxConfig: 'local'};\n",
       "        if (window.MathJax && window.MathJax.Hub && window.MathJax.Hub.Config) {window.MathJax.Hub.Config({SVG: {font: \"STIX-Web\"}});}\n",
       "        if (typeof require !== 'undefined') {\n",
       "        require.undef(\"plotly\");\n",
       "        requirejs.config({\n",
       "            paths: {\n",
       "                'plotly': ['https://cdn.plot.ly/plotly-2.24.1.min']\n",
       "            }\n",
       "        });\n",
       "        require(['plotly'], function(Plotly) {\n",
       "            window._Plotly = Plotly;\n",
       "        });\n",
       "        }\n",
       "        </script>\n",
       "        "
      ]
     },
     "metadata": {},
     "output_type": "display_data"
    },
    {
     "data": {
      "text/html": [
       "<div>                            <div id=\"fdb48107-ac2f-4a53-bfdd-180d54f46c9d\" class=\"plotly-graph-div\" style=\"height:525px; width:100%;\"></div>            <script type=\"text/javascript\">                require([\"plotly\"], function(Plotly) {                    window.PLOTLYENV=window.PLOTLYENV || {};                                    if (document.getElementById(\"fdb48107-ac2f-4a53-bfdd-180d54f46c9d\")) {                    Plotly.newPlot(                        \"fdb48107-ac2f-4a53-bfdd-180d54f46c9d\",                        [{\"hovertemplate\":\"variable=loss\\u003cbr\\u003eEpoch=%{x}\\u003cbr\\u003eLoss=%{y}\\u003cextra\\u003e\\u003c\\u002fextra\\u003e\",\"legendgroup\":\"loss\",\"line\":{\"color\":\"#636efa\",\"dash\":\"solid\"},\"marker\":{\"symbol\":\"circle\"},\"mode\":\"lines\",\"name\":\"loss\",\"orientation\":\"v\",\"showlegend\":true,\"x\":[0,1,2,3,4,5,6,7,8,9,10,11,12,13,14,15,16,17,18],\"xaxis\":\"x\",\"y\":[0.6765605211257935,0.609605610370636,0.505835771560669,0.3863227963447571,0.2923017144203186,0.22458134591579437,0.19205652177333832,0.1535007804632187,0.1410398781299591,0.1275152862071991,0.11763875931501389,0.09890038520097733,0.09375405311584473,0.09800724685192108,0.08212320506572723,0.08197847008705139,0.07554791122674942,0.07304151356220245,0.07375303655862808],\"yaxis\":\"y\",\"type\":\"scatter\"},{\"hovertemplate\":\"variable=val_loss\\u003cbr\\u003eEpoch=%{x}\\u003cbr\\u003eLoss=%{y}\\u003cextra\\u003e\\u003c\\u002fextra\\u003e\",\"legendgroup\":\"val_loss\",\"line\":{\"color\":\"#EF553B\",\"dash\":\"solid\"},\"marker\":{\"symbol\":\"circle\"},\"mode\":\"lines\",\"name\":\"val_loss\",\"orientation\":\"v\",\"showlegend\":true,\"x\":[0,1,2,3,4,5,6,7,8,9,10,11,12,13,14,15,16,17,18],\"xaxis\":\"x\",\"y\":[0.6557603478431702,0.5717015862464905,0.4783419668674469,0.3426501750946045,0.3045172095298767,0.22098375856876373,0.1850229948759079,0.20508721470832825,0.15564048290252686,0.14680127799510956,0.1311645656824112,0.1450624018907547,0.12025891244411469,0.11472092568874359,0.13111764192581177,0.10909365117549896,0.11802127212285995,0.11059799790382385,0.11324483901262283],\"yaxis\":\"y\",\"type\":\"scatter\"}],                        {\"template\":{\"data\":{\"histogram2dcontour\":[{\"type\":\"histogram2dcontour\",\"colorbar\":{\"outlinewidth\":0,\"ticks\":\"\"},\"colorscale\":[[0.0,\"#0d0887\"],[0.1111111111111111,\"#46039f\"],[0.2222222222222222,\"#7201a8\"],[0.3333333333333333,\"#9c179e\"],[0.4444444444444444,\"#bd3786\"],[0.5555555555555556,\"#d8576b\"],[0.6666666666666666,\"#ed7953\"],[0.7777777777777778,\"#fb9f3a\"],[0.8888888888888888,\"#fdca26\"],[1.0,\"#f0f921\"]]}],\"choropleth\":[{\"type\":\"choropleth\",\"colorbar\":{\"outlinewidth\":0,\"ticks\":\"\"}}],\"histogram2d\":[{\"type\":\"histogram2d\",\"colorbar\":{\"outlinewidth\":0,\"ticks\":\"\"},\"colorscale\":[[0.0,\"#0d0887\"],[0.1111111111111111,\"#46039f\"],[0.2222222222222222,\"#7201a8\"],[0.3333333333333333,\"#9c179e\"],[0.4444444444444444,\"#bd3786\"],[0.5555555555555556,\"#d8576b\"],[0.6666666666666666,\"#ed7953\"],[0.7777777777777778,\"#fb9f3a\"],[0.8888888888888888,\"#fdca26\"],[1.0,\"#f0f921\"]]}],\"heatmap\":[{\"type\":\"heatmap\",\"colorbar\":{\"outlinewidth\":0,\"ticks\":\"\"},\"colorscale\":[[0.0,\"#0d0887\"],[0.1111111111111111,\"#46039f\"],[0.2222222222222222,\"#7201a8\"],[0.3333333333333333,\"#9c179e\"],[0.4444444444444444,\"#bd3786\"],[0.5555555555555556,\"#d8576b\"],[0.6666666666666666,\"#ed7953\"],[0.7777777777777778,\"#fb9f3a\"],[0.8888888888888888,\"#fdca26\"],[1.0,\"#f0f921\"]]}],\"heatmapgl\":[{\"type\":\"heatmapgl\",\"colorbar\":{\"outlinewidth\":0,\"ticks\":\"\"},\"colorscale\":[[0.0,\"#0d0887\"],[0.1111111111111111,\"#46039f\"],[0.2222222222222222,\"#7201a8\"],[0.3333333333333333,\"#9c179e\"],[0.4444444444444444,\"#bd3786\"],[0.5555555555555556,\"#d8576b\"],[0.6666666666666666,\"#ed7953\"],[0.7777777777777778,\"#fb9f3a\"],[0.8888888888888888,\"#fdca26\"],[1.0,\"#f0f921\"]]}],\"contourcarpet\":[{\"type\":\"contourcarpet\",\"colorbar\":{\"outlinewidth\":0,\"ticks\":\"\"}}],\"contour\":[{\"type\":\"contour\",\"colorbar\":{\"outlinewidth\":0,\"ticks\":\"\"},\"colorscale\":[[0.0,\"#0d0887\"],[0.1111111111111111,\"#46039f\"],[0.2222222222222222,\"#7201a8\"],[0.3333333333333333,\"#9c179e\"],[0.4444444444444444,\"#bd3786\"],[0.5555555555555556,\"#d8576b\"],[0.6666666666666666,\"#ed7953\"],[0.7777777777777778,\"#fb9f3a\"],[0.8888888888888888,\"#fdca26\"],[1.0,\"#f0f921\"]]}],\"surface\":[{\"type\":\"surface\",\"colorbar\":{\"outlinewidth\":0,\"ticks\":\"\"},\"colorscale\":[[0.0,\"#0d0887\"],[0.1111111111111111,\"#46039f\"],[0.2222222222222222,\"#7201a8\"],[0.3333333333333333,\"#9c179e\"],[0.4444444444444444,\"#bd3786\"],[0.5555555555555556,\"#d8576b\"],[0.6666666666666666,\"#ed7953\"],[0.7777777777777778,\"#fb9f3a\"],[0.8888888888888888,\"#fdca26\"],[1.0,\"#f0f921\"]]}],\"mesh3d\":[{\"type\":\"mesh3d\",\"colorbar\":{\"outlinewidth\":0,\"ticks\":\"\"}}],\"scatter\":[{\"fillpattern\":{\"fillmode\":\"overlay\",\"size\":10,\"solidity\":0.2},\"type\":\"scatter\"}],\"parcoords\":[{\"type\":\"parcoords\",\"line\":{\"colorbar\":{\"outlinewidth\":0,\"ticks\":\"\"}}}],\"scatterpolargl\":[{\"type\":\"scatterpolargl\",\"marker\":{\"colorbar\":{\"outlinewidth\":0,\"ticks\":\"\"}}}],\"bar\":[{\"error_x\":{\"color\":\"#2a3f5f\"},\"error_y\":{\"color\":\"#2a3f5f\"},\"marker\":{\"line\":{\"color\":\"#E5ECF6\",\"width\":0.5},\"pattern\":{\"fillmode\":\"overlay\",\"size\":10,\"solidity\":0.2}},\"type\":\"bar\"}],\"scattergeo\":[{\"type\":\"scattergeo\",\"marker\":{\"colorbar\":{\"outlinewidth\":0,\"ticks\":\"\"}}}],\"scatterpolar\":[{\"type\":\"scatterpolar\",\"marker\":{\"colorbar\":{\"outlinewidth\":0,\"ticks\":\"\"}}}],\"histogram\":[{\"marker\":{\"pattern\":{\"fillmode\":\"overlay\",\"size\":10,\"solidity\":0.2}},\"type\":\"histogram\"}],\"scattergl\":[{\"type\":\"scattergl\",\"marker\":{\"colorbar\":{\"outlinewidth\":0,\"ticks\":\"\"}}}],\"scatter3d\":[{\"type\":\"scatter3d\",\"line\":{\"colorbar\":{\"outlinewidth\":0,\"ticks\":\"\"}},\"marker\":{\"colorbar\":{\"outlinewidth\":0,\"ticks\":\"\"}}}],\"scattermapbox\":[{\"type\":\"scattermapbox\",\"marker\":{\"colorbar\":{\"outlinewidth\":0,\"ticks\":\"\"}}}],\"scatterternary\":[{\"type\":\"scatterternary\",\"marker\":{\"colorbar\":{\"outlinewidth\":0,\"ticks\":\"\"}}}],\"scattercarpet\":[{\"type\":\"scattercarpet\",\"marker\":{\"colorbar\":{\"outlinewidth\":0,\"ticks\":\"\"}}}],\"carpet\":[{\"aaxis\":{\"endlinecolor\":\"#2a3f5f\",\"gridcolor\":\"white\",\"linecolor\":\"white\",\"minorgridcolor\":\"white\",\"startlinecolor\":\"#2a3f5f\"},\"baxis\":{\"endlinecolor\":\"#2a3f5f\",\"gridcolor\":\"white\",\"linecolor\":\"white\",\"minorgridcolor\":\"white\",\"startlinecolor\":\"#2a3f5f\"},\"type\":\"carpet\"}],\"table\":[{\"cells\":{\"fill\":{\"color\":\"#EBF0F8\"},\"line\":{\"color\":\"white\"}},\"header\":{\"fill\":{\"color\":\"#C8D4E3\"},\"line\":{\"color\":\"white\"}},\"type\":\"table\"}],\"barpolar\":[{\"marker\":{\"line\":{\"color\":\"#E5ECF6\",\"width\":0.5},\"pattern\":{\"fillmode\":\"overlay\",\"size\":10,\"solidity\":0.2}},\"type\":\"barpolar\"}],\"pie\":[{\"automargin\":true,\"type\":\"pie\"}]},\"layout\":{\"autotypenumbers\":\"strict\",\"colorway\":[\"#636efa\",\"#EF553B\",\"#00cc96\",\"#ab63fa\",\"#FFA15A\",\"#19d3f3\",\"#FF6692\",\"#B6E880\",\"#FF97FF\",\"#FECB52\"],\"font\":{\"color\":\"#2a3f5f\"},\"hovermode\":\"closest\",\"hoverlabel\":{\"align\":\"left\"},\"paper_bgcolor\":\"white\",\"plot_bgcolor\":\"#E5ECF6\",\"polar\":{\"bgcolor\":\"#E5ECF6\",\"angularaxis\":{\"gridcolor\":\"white\",\"linecolor\":\"white\",\"ticks\":\"\"},\"radialaxis\":{\"gridcolor\":\"white\",\"linecolor\":\"white\",\"ticks\":\"\"}},\"ternary\":{\"bgcolor\":\"#E5ECF6\",\"aaxis\":{\"gridcolor\":\"white\",\"linecolor\":\"white\",\"ticks\":\"\"},\"baxis\":{\"gridcolor\":\"white\",\"linecolor\":\"white\",\"ticks\":\"\"},\"caxis\":{\"gridcolor\":\"white\",\"linecolor\":\"white\",\"ticks\":\"\"}},\"coloraxis\":{\"colorbar\":{\"outlinewidth\":0,\"ticks\":\"\"}},\"colorscale\":{\"sequential\":[[0.0,\"#0d0887\"],[0.1111111111111111,\"#46039f\"],[0.2222222222222222,\"#7201a8\"],[0.3333333333333333,\"#9c179e\"],[0.4444444444444444,\"#bd3786\"],[0.5555555555555556,\"#d8576b\"],[0.6666666666666666,\"#ed7953\"],[0.7777777777777778,\"#fb9f3a\"],[0.8888888888888888,\"#fdca26\"],[1.0,\"#f0f921\"]],\"sequentialminus\":[[0.0,\"#0d0887\"],[0.1111111111111111,\"#46039f\"],[0.2222222222222222,\"#7201a8\"],[0.3333333333333333,\"#9c179e\"],[0.4444444444444444,\"#bd3786\"],[0.5555555555555556,\"#d8576b\"],[0.6666666666666666,\"#ed7953\"],[0.7777777777777778,\"#fb9f3a\"],[0.8888888888888888,\"#fdca26\"],[1.0,\"#f0f921\"]],\"diverging\":[[0,\"#8e0152\"],[0.1,\"#c51b7d\"],[0.2,\"#de77ae\"],[0.3,\"#f1b6da\"],[0.4,\"#fde0ef\"],[0.5,\"#f7f7f7\"],[0.6,\"#e6f5d0\"],[0.7,\"#b8e186\"],[0.8,\"#7fbc41\"],[0.9,\"#4d9221\"],[1,\"#276419\"]]},\"xaxis\":{\"gridcolor\":\"white\",\"linecolor\":\"white\",\"ticks\":\"\",\"title\":{\"standoff\":15},\"zerolinecolor\":\"white\",\"automargin\":true,\"zerolinewidth\":2},\"yaxis\":{\"gridcolor\":\"white\",\"linecolor\":\"white\",\"ticks\":\"\",\"title\":{\"standoff\":15},\"zerolinecolor\":\"white\",\"automargin\":true,\"zerolinewidth\":2},\"scene\":{\"xaxis\":{\"backgroundcolor\":\"#E5ECF6\",\"gridcolor\":\"white\",\"linecolor\":\"white\",\"showbackground\":true,\"ticks\":\"\",\"zerolinecolor\":\"white\",\"gridwidth\":2},\"yaxis\":{\"backgroundcolor\":\"#E5ECF6\",\"gridcolor\":\"white\",\"linecolor\":\"white\",\"showbackground\":true,\"ticks\":\"\",\"zerolinecolor\":\"white\",\"gridwidth\":2},\"zaxis\":{\"backgroundcolor\":\"#E5ECF6\",\"gridcolor\":\"white\",\"linecolor\":\"white\",\"showbackground\":true,\"ticks\":\"\",\"zerolinecolor\":\"white\",\"gridwidth\":2}},\"shapedefaults\":{\"line\":{\"color\":\"#2a3f5f\"}},\"annotationdefaults\":{\"arrowcolor\":\"#2a3f5f\",\"arrowhead\":0,\"arrowwidth\":1},\"geo\":{\"bgcolor\":\"white\",\"landcolor\":\"#E5ECF6\",\"subunitcolor\":\"white\",\"showland\":true,\"showlakes\":true,\"lakecolor\":\"white\"},\"title\":{\"x\":0.05},\"mapbox\":{\"style\":\"light\"}}},\"xaxis\":{\"anchor\":\"y\",\"domain\":[0.0,1.0],\"title\":{\"text\":\"Epoch\"}},\"yaxis\":{\"anchor\":\"x\",\"domain\":[0.0,1.0],\"title\":{\"text\":\"Loss\"}},\"legend\":{\"title\":{\"text\":\"variable\"},\"tracegroupgap\":0},\"title\":{\"text\":\"Training and Validation Loss Over Time\"}},                        {\"responsive\": true}                    ).then(function(){\n",
       "                            \n",
       "var gd = document.getElementById('fdb48107-ac2f-4a53-bfdd-180d54f46c9d');\n",
       "var x = new MutationObserver(function (mutations, observer) {{\n",
       "        var display = window.getComputedStyle(gd).display;\n",
       "        if (!display || display === 'none') {{\n",
       "            console.log([gd, 'removed!']);\n",
       "            Plotly.purge(gd);\n",
       "            observer.disconnect();\n",
       "        }}\n",
       "}});\n",
       "\n",
       "// Listen for the removal of the full notebook cells\n",
       "var notebookContainer = gd.closest('#notebook-container');\n",
       "if (notebookContainer) {{\n",
       "    x.observe(notebookContainer, {childList: true});\n",
       "}}\n",
       "\n",
       "// Listen for the clearing of the current output cell\n",
       "var outputEl = gd.closest('.output');\n",
       "if (outputEl) {{\n",
       "    x.observe(outputEl, {childList: true});\n",
       "}}\n",
       "\n",
       "                        })                };                });            </script>        </div>"
      ]
     },
     "metadata": {},
     "output_type": "display_data"
    }
   ],
   "source": [
    "fig = px.line(\n",
    "    history.history,\n",
    "    y=['loss', 'val_loss'],\n",
    "    labels={'index': \"Epoch\", 'value': \"Loss\"},\n",
    "    title=\"Training and Validation Loss Over Time\"\n",
    ")\n",
    "\n",
    "fig.show()"
   ]
  },
  {
   "cell_type": "markdown",
   "id": "3f7478b9",
   "metadata": {
    "papermill": {
     "duration": 0.112392,
     "end_time": "2023-10-02T18:11:38.107602",
     "exception": false,
     "start_time": "2023-10-02T18:11:37.995210",
     "status": "completed"
    },
    "tags": []
   },
   "source": [
    "**result**"
   ]
  },
  {
   "cell_type": "code",
   "execution_count": 11,
   "id": "6c131f44",
   "metadata": {
    "execution": {
     "iopub.execute_input": "2023-10-02T18:11:38.328223Z",
     "iopub.status.busy": "2023-10-02T18:11:38.327589Z",
     "iopub.status.idle": "2023-10-02T18:11:38.335322Z",
     "shell.execute_reply": "2023-10-02T18:11:38.334368Z"
    },
    "papermill": {
     "duration": 0.119983,
     "end_time": "2023-10-02T18:11:38.337270",
     "exception": false,
     "start_time": "2023-10-02T18:11:38.217287",
     "status": "completed"
    },
    "tags": []
   },
   "outputs": [],
   "source": [
    "def evaluate_model(model, test_data):\n",
    "    \n",
    "    results = model.evaluate(test_data, verbose=0)\n",
    "    loss = results[0]\n",
    "    acc = results[1]\n",
    "    \n",
    "    print(\"    Test Loss: {:.5f}\".format(loss))\n",
    "    print(\"Test Accuracy: {:.2f}%\".format(acc * 100))\n",
    "    \n",
    "    y_pred = np.squeeze((model.predict(test_data) >= 0.5).astype(np.int))\n",
    "    cm = confusion_matrix(test_data.labels, y_pred)\n",
    "    clr = classification_report(test_data.labels, y_pred, target_names=[\"NEGATIVE\", \"POSITIVE\"])\n",
    "    \n",
    "    plt.figure(figsize=(6, 6))\n",
    "    sns.heatmap(cm, annot=True, fmt='g', vmin=0, cmap='Blues', cbar=False)\n",
    "    plt.xticks(ticks=np.arange(2) + 0.5, labels=[\"NEGATIVE\", \"POSITIVE\"])\n",
    "    plt.yticks(ticks=np.arange(2) + 0.5, labels=[\"NEGATIVE\", \"POSITIVE\"])\n",
    "    plt.xlabel(\"Predicted\")\n",
    "    plt.ylabel(\"Actual\")\n",
    "    plt.title(\"Confusion Matrix\")\n",
    "    plt.show()\n",
    "    print(\"Classification Report:\\n----------------------\\n\", clr)"
   ]
  },
  {
   "cell_type": "code",
   "execution_count": 12,
   "id": "108cb4fa",
   "metadata": {
    "execution": {
     "iopub.execute_input": "2023-10-02T18:11:38.557467Z",
     "iopub.status.busy": "2023-10-02T18:11:38.557092Z",
     "iopub.status.idle": "2023-10-02T18:11:54.984284Z",
     "shell.execute_reply": "2023-10-02T18:11:54.983339Z"
    },
    "papermill": {
     "duration": 16.540163,
     "end_time": "2023-10-02T18:11:54.986565",
     "exception": false,
     "start_time": "2023-10-02T18:11:38.446402",
     "status": "completed"
    },
    "tags": []
   },
   "outputs": [
    {
     "name": "stdout",
     "output_type": "stream",
     "text": [
      "    Test Loss: 0.10917\n",
      "Test Accuracy: 97.00%\n",
      "57/57 [==============================] - 4s 76ms/step\n"
     ]
    },
    {
     "name": "stderr",
     "output_type": "stream",
     "text": [
      "/tmp/ipykernel_20/409171601.py:10: DeprecationWarning:\n",
      "\n",
      "`np.int` is a deprecated alias for the builtin `int`. To silence this warning, use `int` by itself. Doing this will not modify any behavior and is safe. When replacing `np.int`, you may wish to use e.g. `np.int64` or `np.int32` to specify the precision. If you wish to review your current use, check the release note link for additional information.\n",
      "Deprecated in NumPy 1.20; for more details and guidance: https://numpy.org/devdocs/release/1.20.0-notes.html#deprecations\n",
      "\n"
     ]
    },
    {
     "data": {
      "image/png": "[encoded data removed]",
      "text/plain": [
       "<Figure size 600x600 with 1 Axes>"
      ]
     },
     "metadata": {},
     "output_type": "display_data"
    },
    {
     "name": "stdout",
     "output_type": "stream",
     "text": [
      "Classification Report:\n",
      "----------------------\n",
      "               precision    recall  f1-score   support\n",
      "\n",
      "    NEGATIVE       0.96      0.98      0.97       917\n",
      "    POSITIVE       0.98      0.96      0.97       883\n",
      "\n",
      "    accuracy                           0.97      1800\n",
      "   macro avg       0.97      0.97      0.97      1800\n",
      "weighted avg       0.97      0.97      0.97      1800\n",
      "\n"
     ]
    }
   ],
   "source": [
    "evaluate_model(model, test_data)"
   ]
  }
 ],
 "metadata": {
  "kernelspec": {
   "display_name": "Python 3",
   "language": "python",
   "name": "python3"
  },
  "language_info": {
   "codemirror_mode": {
    "name": "ipython",
    "version": 3
   },
   "file_extension": ".py",
   "mimetype": "text/x-python",
   "name": "python",
   "nbconvert_exporter": "python",
   "pygments_lexer": "ipython3",
   "version": "3.10.12"
  },
  "papermill": {
   "default_parameters": {},
   "duration": 732.549886,
   "end_time": "2023-10-02T18:11:57.027904",
   "environment_variables": {},
   "exception": null,
   "input_path": "__notebook__.ipynb",
   "output_path": "__notebook__.ipynb",
   "parameters": {},
   "start_time": "2023-10-02T17:59:44.478018",
   "version": "2.4.0"
  }
 },
 "nbformat": 4,
 "nbformat_minor": 5
}
